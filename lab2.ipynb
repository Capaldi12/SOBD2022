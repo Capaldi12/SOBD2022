{
 "cells": [
  {
   "cell_type": "markdown",
   "id": "b1cb987d-5d6f-4794-83c9-03a08e4888f2",
   "metadata": {},
   "source": [
    "# Алгоритмы машинного обучения в Apache Spark"
   ]
  },
  {
   "cell_type": "markdown",
   "id": "81b8542c-e833-409b-ae45-c38a5790416c",
   "metadata": {},
   "source": [
    "Имопрт вспомогательных библиотек"
   ]
  },
  {
   "cell_type": "code",
   "execution_count": 1,
   "id": "bdd900c3-a1ed-4546-b3e4-ba9f4006f406",
   "metadata": {
    "pycharm": {
     "name": "#%%\n"
    }
   },
   "outputs": [],
   "source": [
    "# Disable warnings from pandas that are caused by pyspark\n",
    "import warnings\n",
    "warnings.simplefilter(action='ignore', category=FutureWarning)\n",
    "\n",
    "# Import other modules not related to PySpark\n",
    "import os\n",
    "import sys\n",
    "\n",
    "import numpy as np\n",
    "import pandas as pd\n",
    "\n",
    "import matplotlib.pyplot as plt\n",
    "import seaborn as sns\n",
    "\n",
    "# Plots and charts\n",
    "%matplotlib inline\n",
    "sns.set_style()\n",
    "sns.set()\n",
    "\n",
    "pastel = sns.color_palette('pastel')\n",
    "muted = sns.color_palette('muted')"
   ]
  },
  {
   "cell_type": "markdown",
   "id": "c815a801-307f-4508-b38a-f11631f72b31",
   "metadata": {},
   "source": [
    "Импорт компонентов Spark"
   ]
  },
  {
   "cell_type": "code",
   "execution_count": 2,
   "id": "41e69e64-c90d-4857-8af4-352ca094c379",
   "metadata": {
    "pycharm": {
     "name": "#%%\n"
    }
   },
   "outputs": [],
   "source": [
    "import pyspark\n",
    "\n",
    "from pyspark.sql.types import *\n",
    "import pyspark.sql.functions as f\n",
    "from pyspark.sql import SparkSession\n",
    "\n",
    "from pyspark.ml import Pipeline\n",
    "from pyspark.ml.feature import VectorAssembler, StringIndexer, VectorIndexer, MinMaxScaler\n",
    "from pyspark.ml.regression import LinearRegression\n",
    "from pyspark.ml.classification import RandomForestClassifier\n",
    "from pyspark.ml.tuning import ParamGridBuilder, CrossValidator\n",
    "from pyspark.ml.evaluation import BinaryClassificationEvaluator"
   ]
  },
  {
   "cell_type": "markdown",
   "id": "5b12c132-b457-4fef-af3e-a6748d398558",
   "metadata": {},
   "source": [
    "Создание Spark-сессии"
   ]
  },
  {
   "cell_type": "code",
   "execution_count": 3,
   "id": "adbbb392-3d42-4d42-8210-d0fcb52e4d90",
   "metadata": {
    "pycharm": {
     "name": "#%%\n"
    }
   },
   "outputs": [],
   "source": [
    "MAX_MEMORY = '4G'\n",
    "\n",
    "conf = pyspark.SparkConf().setMaster(\"local[*]\") \\\n",
    "        .set('spark.executor.heartbeatInterval', 10000) \\\n",
    "        .set('spark.network.timeout', 10000) \\\n",
    "        .set(\"spark.core.connection.ack.wait.timeout\", \"3600\") \\\n",
    "        .set(\"spark.executor.memory\", MAX_MEMORY) \\\n",
    "        .set(\"spark.driver.memory\", MAX_MEMORY)\n",
    "\n",
    "spark = SparkSession.builder.appName(\"Pyspark guide\").config(conf=conf).getOrCreate()"
   ]
  },
  {
   "cell_type": "markdown",
   "id": "86fe1439-6ec0-4380-b387-b230fc165fdd",
   "metadata": {},
   "source": [
    "Загрузка данных, полученных в результате предыдущей лабораторной работы"
   ]
  },
  {
   "cell_type": "code",
   "execution_count": 4,
   "id": "845c1e2a-b0ba-4525-b331-3e4094772783",
   "metadata": {
    "pycharm": {
     "name": "#%%\n"
    }
   },
   "outputs": [
    {
     "data": {
      "text/html": [
       "<div>\n",
       "<style scoped>\n",
       "    .dataframe tbody tr th:only-of-type {\n",
       "        vertical-align: middle;\n",
       "    }\n",
       "\n",
       "    .dataframe tbody tr th {\n",
       "        vertical-align: top;\n",
       "    }\n",
       "\n",
       "    .dataframe thead th {\n",
       "        text-align: right;\n",
       "    }\n",
       "</style>\n",
       "<table border=\"1\" class=\"dataframe\">\n",
       "  <thead>\n",
       "    <tr style=\"text-align: right;\">\n",
       "      <th></th>\n",
       "      <th>start_date</th>\n",
       "      <th>end_date</th>\n",
       "      <th>start_lat</th>\n",
       "      <th>start_lng</th>\n",
       "      <th>end_lat</th>\n",
       "      <th>end_lng</th>\n",
       "      <th>duration</th>\n",
       "      <th>day_of_week</th>\n",
       "      <th>month</th>\n",
       "      <th>distance</th>\n",
       "      <th>round_trip</th>\n",
       "      <th>electric_bike</th>\n",
       "      <th>docked_bike</th>\n",
       "      <th>member</th>\n",
       "    </tr>\n",
       "  </thead>\n",
       "  <tbody>\n",
       "    <tr>\n",
       "      <th>0</th>\n",
       "      <td>2021-08-26 16:22:46</td>\n",
       "      <td>2021-08-26 16:34:29</td>\n",
       "      <td>41.886305</td>\n",
       "      <td>-87.618820</td>\n",
       "      <td>41.902606</td>\n",
       "      <td>-87.631212</td>\n",
       "      <td>703</td>\n",
       "      <td>Thursday</td>\n",
       "      <td>August</td>\n",
       "      <td>2082.658737</td>\n",
       "      <td>0</td>\n",
       "      <td>1</td>\n",
       "      <td>0</td>\n",
       "      <td>1</td>\n",
       "    </tr>\n",
       "    <tr>\n",
       "      <th>1</th>\n",
       "      <td>2021-08-03 16:36:02</td>\n",
       "      <td>2021-08-03 16:47:29</td>\n",
       "      <td>41.885885</td>\n",
       "      <td>-87.618103</td>\n",
       "      <td>41.901180</td>\n",
       "      <td>-87.630310</td>\n",
       "      <td>687</td>\n",
       "      <td>Tuesday</td>\n",
       "      <td>August</td>\n",
       "      <td>1978.268007</td>\n",
       "      <td>0</td>\n",
       "      <td>1</td>\n",
       "      <td>0</td>\n",
       "      <td>1</td>\n",
       "    </tr>\n",
       "    <tr>\n",
       "      <th>2</th>\n",
       "      <td>2021-08-20 07:30:21</td>\n",
       "      <td>2021-08-20 07:46:20</td>\n",
       "      <td>41.881690</td>\n",
       "      <td>-87.639530</td>\n",
       "      <td>41.902973</td>\n",
       "      <td>-87.631280</td>\n",
       "      <td>959</td>\n",
       "      <td>Friday</td>\n",
       "      <td>August</td>\n",
       "      <td>2463.114357</td>\n",
       "      <td>0</td>\n",
       "      <td>0</td>\n",
       "      <td>0</td>\n",
       "      <td>1</td>\n",
       "    </tr>\n",
       "    <tr>\n",
       "      <th>3</th>\n",
       "      <td>2021-08-31 12:55:32</td>\n",
       "      <td>2021-08-31 13:27:43</td>\n",
       "      <td>41.886349</td>\n",
       "      <td>-87.617517</td>\n",
       "      <td>41.902973</td>\n",
       "      <td>-87.631280</td>\n",
       "      <td>1931</td>\n",
       "      <td>Tuesday</td>\n",
       "      <td>August</td>\n",
       "      <td>2171.343762</td>\n",
       "      <td>0</td>\n",
       "      <td>0</td>\n",
       "      <td>0</td>\n",
       "      <td>1</td>\n",
       "    </tr>\n",
       "    <tr>\n",
       "      <th>4</th>\n",
       "      <td>2021-08-06 10:52:29</td>\n",
       "      <td>2021-08-06 11:06:19</td>\n",
       "      <td>41.881690</td>\n",
       "      <td>-87.639530</td>\n",
       "      <td>41.902973</td>\n",
       "      <td>-87.631280</td>\n",
       "      <td>830</td>\n",
       "      <td>Friday</td>\n",
       "      <td>August</td>\n",
       "      <td>2463.114357</td>\n",
       "      <td>0</td>\n",
       "      <td>0</td>\n",
       "      <td>0</td>\n",
       "      <td>1</td>\n",
       "    </tr>\n",
       "  </tbody>\n",
       "</table>\n",
       "</div>"
      ],
      "text/plain": [
       "           start_date            end_date  start_lat  start_lng    end_lat  \\\n",
       "0 2021-08-26 16:22:46 2021-08-26 16:34:29  41.886305 -87.618820  41.902606   \n",
       "1 2021-08-03 16:36:02 2021-08-03 16:47:29  41.885885 -87.618103  41.901180   \n",
       "2 2021-08-20 07:30:21 2021-08-20 07:46:20  41.881690 -87.639530  41.902973   \n",
       "3 2021-08-31 12:55:32 2021-08-31 13:27:43  41.886349 -87.617517  41.902973   \n",
       "4 2021-08-06 10:52:29 2021-08-06 11:06:19  41.881690 -87.639530  41.902973   \n",
       "\n",
       "     end_lng  duration day_of_week   month     distance  round_trip  \\\n",
       "0 -87.631212       703    Thursday  August  2082.658737           0   \n",
       "1 -87.630310       687     Tuesday  August  1978.268007           0   \n",
       "2 -87.631280       959      Friday  August  2463.114357           0   \n",
       "3 -87.631280      1931     Tuesday  August  2171.343762           0   \n",
       "4 -87.631280       830      Friday  August  2463.114357           0   \n",
       "\n",
       "   electric_bike  docked_bike  member  \n",
       "0              1            0       1  \n",
       "1              1            0       1  \n",
       "2              0            0       1  \n",
       "3              0            0       1  \n",
       "4              0            0       1  "
      ]
     },
     "execution_count": 4,
     "metadata": {},
     "output_type": "execute_result"
    }
   ],
   "source": [
    "data_path = 'data/prepared.csv'\n",
    "subsample_path = 'data/subsample.csv'\n",
    "\n",
    "if not os.path.exists(subsample_path):\n",
    "    df = spark.read.csv(data_path, inferSchema=True, header=True)\n",
    "    df = df.sample(fraction=0.025)\n",
    "    df.write.mode(\"overwrite\").option(\"header\", True).csv(subsample_path)\n",
    "    \n",
    "df = spark.read.csv(data_path, inferSchema=True, header=True)\n",
    "df.limit(5).toPandas()"
   ]
  },
  {
   "cell_type": "markdown",
   "id": "480ef703-b0e6-465b-b608-b3acf8325fa3",
   "metadata": {},
   "source": [
    "Разделение данных на тренировочную и тестовую части"
   ]
  },
  {
   "cell_type": "code",
   "execution_count": 5,
   "id": "e29c822d-c789-4cab-9094-1fcb88243e62",
   "metadata": {
    "pycharm": {
     "name": "#%%\n"
    }
   },
   "outputs": [
    {
     "name": "stdout",
     "output_type": "stream",
     "text": [
      "train: 3659930, test: 406988\n"
     ]
    }
   ],
   "source": [
    "train, test = df.randomSplit([0.9, 0.1])\n",
    "print(f'train: {train.count()}, test: {test.count()}')"
   ]
  },
  {
   "cell_type": "markdown",
   "id": "63998576-5ca3-47ae-a6df-078d2bce6467",
   "metadata": {},
   "source": [
    "## Бинарная клаассификация с использованием алгоритма случайного леса\n",
    "\n",
    "Алгоритм случайного леса (Random Forest) — универсальный алгоритм машинного обучения, суть которого состоит в использовании ансамбля решающих деревьев. Само по себе решающее дерево предоставляет крайне невысокое качество классификации, но из-за большого их количества результат значительно улучшается. Также это один из немногих алгоритмов, который можно использовать в абсолютном большинстве задач."
   ]
  },
  {
   "cell_type": "markdown",
   "id": "01251030-cdac-45b8-af3a-90e7bfdecc36",
   "metadata": {},
   "source": [
    "Создание пайплайна для выполнения алгоритма"
   ]
  },
  {
   "cell_type": "code",
   "execution_count": 6,
   "id": "c4f3d2d9-22c3-4933-a046-c889ee1c3c84",
   "metadata": {},
   "outputs": [],
   "source": [
    "cl_pipeline = Pipeline(stages=[\n",
    "    StringIndexer(inputCol='day_of_week', outputCol='day_idx'),\n",
    "    StringIndexer(inputCol='month', outputCol='month_idx'),\n",
    "    VectorAssembler(inputCols=['day_idx', 'month_idx', 'electric_bike', 'docked_bike', 'member'], outputCol='cat_features'),\n",
    "    VectorIndexer(inputCol='cat_features', outputCol='cat_idx'),\n",
    "    VectorAssembler(inputCols=['start_lat', 'start_lng', 'end_lat', 'end_lng', 'duration'], outputCol='num_features'),\n",
    "    MinMaxScaler(inputCol='num_features', outputCol='num_scaled'),\n",
    "    VectorAssembler(inputCols=['cat_idx', 'num_scaled'], outputCol='features'),\n",
    "    RandomForestClassifier(labelCol='round_trip', featuresCol='features', numTrees=10)\n",
    "])"
   ]
  },
  {
   "cell_type": "markdown",
   "id": "e938f370-3e7a-4764-a704-d4a61e484954",
   "metadata": {},
   "source": [
    "Обучение модели и получение предсказаний"
   ]
  },
  {
   "cell_type": "code",
   "execution_count": 7,
   "id": "0241106a-1ad6-4b6a-9c83-a42ddcfdfad5",
   "metadata": {},
   "outputs": [],
   "source": [
    "cl_model = cl_pipeline.fit(train)\n",
    "cl_predictions = cl_model.transform(test)"
   ]
  },
  {
   "cell_type": "code",
   "execution_count": 15,
   "id": "e2774447-0b36-4863-896f-765e7a243c9e",
   "metadata": {},
   "outputs": [
    {
     "data": {
      "text/html": [
       "<div>\n",
       "<style scoped>\n",
       "    .dataframe tbody tr th:only-of-type {\n",
       "        vertical-align: middle;\n",
       "    }\n",
       "\n",
       "    .dataframe tbody tr th {\n",
       "        vertical-align: top;\n",
       "    }\n",
       "\n",
       "    .dataframe thead th {\n",
       "        text-align: right;\n",
       "    }\n",
       "</style>\n",
       "<table border=\"1\" class=\"dataframe\">\n",
       "  <thead>\n",
       "    <tr style=\"text-align: right;\">\n",
       "      <th></th>\n",
       "      <th>features</th>\n",
       "      <th>prediction</th>\n",
       "      <th>true_value</th>\n",
       "    </tr>\n",
       "  </thead>\n",
       "  <tbody>\n",
       "    <tr>\n",
       "      <th>0</th>\n",
       "      <td>[6.0, 0.0, 1.0, 0.0, 0.0, 0.5588333898818049, ...</td>\n",
       "      <td>0.0</td>\n",
       "      <td>0</td>\n",
       "    </tr>\n",
       "    <tr>\n",
       "      <th>1</th>\n",
       "      <td>[4.0, 0.0, 1.0, 0.0, 1.0, 0.5137975525088563, ...</td>\n",
       "      <td>0.0</td>\n",
       "      <td>0</td>\n",
       "    </tr>\n",
       "    <tr>\n",
       "      <th>2</th>\n",
       "      <td>[4.0, 0.0, 0.0, 0.0, 1.0, 0.7090793463413818, ...</td>\n",
       "      <td>0.0</td>\n",
       "      <td>0</td>\n",
       "    </tr>\n",
       "    <tr>\n",
       "      <th>3</th>\n",
       "      <td>[4.0, 0.0, 0.0, 0.0, 1.0, 0.7019606506651209, ...</td>\n",
       "      <td>0.0</td>\n",
       "      <td>0</td>\n",
       "    </tr>\n",
       "    <tr>\n",
       "      <th>4</th>\n",
       "      <td>[5.0, 0.0, 0.0, 0.0, 0.0, 0.585484475155062, 0...</td>\n",
       "      <td>0.0</td>\n",
       "      <td>0</td>\n",
       "    </tr>\n",
       "    <tr>\n",
       "      <th>...</th>\n",
       "      <td>...</td>\n",
       "      <td>...</td>\n",
       "      <td>...</td>\n",
       "    </tr>\n",
       "    <tr>\n",
       "      <th>427</th>\n",
       "      <td>[0.0, 1.0, 0.0, 0.0, 0.0, 0.17616403703634506,...</td>\n",
       "      <td>0.0</td>\n",
       "      <td>0</td>\n",
       "    </tr>\n",
       "    <tr>\n",
       "      <th>428</th>\n",
       "      <td>[1.0, 1.0, 0.0, 0.0, 1.0, 0.7196733296841562, ...</td>\n",
       "      <td>0.0</td>\n",
       "      <td>0</td>\n",
       "    </tr>\n",
       "    <tr>\n",
       "      <th>429</th>\n",
       "      <td>[1.0, 1.0, 0.0, 0.0, 0.0, 0.6063371378246533, ...</td>\n",
       "      <td>0.0</td>\n",
       "      <td>0</td>\n",
       "    </tr>\n",
       "    <tr>\n",
       "      <th>430</th>\n",
       "      <td>[1.0, 1.0, 1.0, 0.0, 0.0, 0.6210659449404514, ...</td>\n",
       "      <td>0.0</td>\n",
       "      <td>0</td>\n",
       "    </tr>\n",
       "    <tr>\n",
       "      <th>431</th>\n",
       "      <td>[1.0, 1.0, 1.0, 0.0, 0.0, 0.5817778298790744, ...</td>\n",
       "      <td>0.0</td>\n",
       "      <td>0</td>\n",
       "    </tr>\n",
       "  </tbody>\n",
       "</table>\n",
       "<p>432 rows × 3 columns</p>\n",
       "</div>"
      ],
      "text/plain": [
       "                                              features  prediction  true_value\n",
       "0    [6.0, 0.0, 1.0, 0.0, 0.0, 0.5588333898818049, ...         0.0           0\n",
       "1    [4.0, 0.0, 1.0, 0.0, 1.0, 0.5137975525088563, ...         0.0           0\n",
       "2    [4.0, 0.0, 0.0, 0.0, 1.0, 0.7090793463413818, ...         0.0           0\n",
       "3    [4.0, 0.0, 0.0, 0.0, 1.0, 0.7019606506651209, ...         0.0           0\n",
       "4    [5.0, 0.0, 0.0, 0.0, 0.0, 0.585484475155062, 0...         0.0           0\n",
       "..                                                 ...         ...         ...\n",
       "427  [0.0, 1.0, 0.0, 0.0, 0.0, 0.17616403703634506,...         0.0           0\n",
       "428  [1.0, 1.0, 0.0, 0.0, 1.0, 0.7196733296841562, ...         0.0           0\n",
       "429  [1.0, 1.0, 0.0, 0.0, 0.0, 0.6063371378246533, ...         0.0           0\n",
       "430  [1.0, 1.0, 1.0, 0.0, 0.0, 0.6210659449404514, ...         0.0           0\n",
       "431  [1.0, 1.0, 1.0, 0.0, 0.0, 0.5817778298790744, ...         0.0           0\n",
       "\n",
       "[432 rows x 3 columns]"
      ]
     },
     "execution_count": 15,
     "metadata": {},
     "output_type": "execute_result"
    }
   ],
   "source": [
    "cl_predictions.select('features', 'prediction', f.col('round_trip').alias('true_value')).sample(0.001).toPandas()"
   ]
  },
  {
   "cell_type": "markdown",
   "id": "9f374d6b-9af1-4109-8c49-5cf56f3ea60a",
   "metadata": {},
   "source": [
    "Оценка качества предсказаний"
   ]
  },
  {
   "cell_type": "code",
   "execution_count": 8,
   "id": "f29b60d0-fc9a-47c1-862e-49024641efe0",
   "metadata": {},
   "outputs": [
    {
     "data": {
      "text/html": [
       "<div>\n",
       "<style scoped>\n",
       "    .dataframe tbody tr th:only-of-type {\n",
       "        vertical-align: middle;\n",
       "    }\n",
       "\n",
       "    .dataframe tbody tr th {\n",
       "        vertical-align: top;\n",
       "    }\n",
       "\n",
       "    .dataframe thead th {\n",
       "        text-align: right;\n",
       "    }\n",
       "</style>\n",
       "<table border=\"1\" class=\"dataframe\">\n",
       "  <thead>\n",
       "    <tr style=\"text-align: right;\">\n",
       "      <th></th>\n",
       "      <th>metric</th>\n",
       "      <th>value</th>\n",
       "    </tr>\n",
       "  </thead>\n",
       "  <tbody>\n",
       "    <tr>\n",
       "      <th>0</th>\n",
       "      <td>TP</td>\n",
       "      <td>5274.000000</td>\n",
       "    </tr>\n",
       "    <tr>\n",
       "      <th>1</th>\n",
       "      <td>FP</td>\n",
       "      <td>2315.000000</td>\n",
       "    </tr>\n",
       "    <tr>\n",
       "      <th>2</th>\n",
       "      <td>TN</td>\n",
       "      <td>388259.000000</td>\n",
       "    </tr>\n",
       "    <tr>\n",
       "      <th>3</th>\n",
       "      <td>FN</td>\n",
       "      <td>11140.000000</td>\n",
       "    </tr>\n",
       "    <tr>\n",
       "      <th>4</th>\n",
       "      <td>Precision</td>\n",
       "      <td>0.694953</td>\n",
       "    </tr>\n",
       "    <tr>\n",
       "      <th>5</th>\n",
       "      <td>Recall</td>\n",
       "      <td>0.321311</td>\n",
       "    </tr>\n",
       "    <tr>\n",
       "      <th>6</th>\n",
       "      <td>F1</td>\n",
       "      <td>0.439445</td>\n",
       "    </tr>\n",
       "  </tbody>\n",
       "</table>\n",
       "</div>"
      ],
      "text/plain": [
       "      metric          value\n",
       "0         TP    5274.000000\n",
       "1         FP    2315.000000\n",
       "2         TN  388259.000000\n",
       "3         FN   11140.000000\n",
       "4  Precision       0.694953\n",
       "5     Recall       0.321311\n",
       "6         F1       0.439445"
      ]
     },
     "execution_count": 8,
     "metadata": {},
     "output_type": "execute_result"
    }
   ],
   "source": [
    "tp = float(cl_predictions.filter((f.col('prediction') == 1) & (f.col('round_trip') == 1)).count())\n",
    "fp = float(cl_predictions.filter((f.col('prediction') == 1) & (f.col('round_trip') == 0)).count())\n",
    "tn = float(cl_predictions.filter((f.col('prediction') == 0) & (f.col('round_trip') == 0)).count())\n",
    "fn = float(cl_predictions.filter((f.col('prediction') == 0) & (f.col('round_trip') == 1)).count())\n",
    "\n",
    "pr = tp / (tp + fp)\n",
    "re = tp / (tp + fn)\n",
    "f1 = 2 * pr * re / (re + pr)\n",
    "\n",
    "metrics = pd.DataFrame(\n",
    "    [(\"TP\", tp), (\"FP\", fp), (\"TN\", tn), (\"FN\", fn), (\"Precision\", pr), (\"Recall\", re), (\"F1\", f1)], \n",
    "    columns=[\"metric\", \"value\"])\n",
    "metrics"
   ]
  },
  {
   "cell_type": "markdown",
   "id": "8d61f2a7-a03c-431c-ae19-cf034a297216",
   "metadata": {},
   "source": [
    "Построение матрицы несоответствия"
   ]
  },
  {
   "cell_type": "code",
   "execution_count": 16,
   "id": "f241bb70-0406-4258-bd2c-459fbce67c8f",
   "metadata": {},
   "outputs": [
    {
     "data": {
      "text/plain": [
       "<AxesSubplot: >"
      ]
     },
     "execution_count": 16,
     "metadata": {},
     "output_type": "execute_result"
    },
    {
     "data": {
      "image/png": "[encoded data removed]",
      "text/plain": [
       "<Figure size 640x480 with 2 Axes>"
      ]
     },
     "metadata": {},
     "output_type": "display_data"
    }
   ],
   "source": [
    "cm = pd.DataFrame([[tp, fp], [fn, tn]], index=['positive', 'negative'], columns=['true', 'false'])\n",
    "sns.heatmap(cm, annot=[['tp', 'fp'], ['fn', 'tn']], fmt='')"
   ]
  },
  {
   "cell_type": "markdown",
   "id": "e865c639-0a58-42cf-b719-f14219c92fb0",
   "metadata": {},
   "source": [
    "Получение метрики ROC-AUC"
   ]
  },
  {
   "cell_type": "code",
   "execution_count": 10,
   "id": "df7aafec-0917-49b5-898c-42e77db89011",
   "metadata": {},
   "outputs": [
    {
     "name": "stdout",
     "output_type": "stream",
     "text": [
      "auc=0.8453152352819387\n"
     ]
    }
   ],
   "source": [
    "cl_evaluator = BinaryClassificationEvaluator(labelCol='round_trip', rawPredictionCol=\"rawPrediction\", metricName=\"areaUnderROC\")\n",
    "auc = cl_evaluator.evaluate(cl_predictions)\n",
    "print(f'{auc=}')"
   ]
  },
  {
   "cell_type": "markdown",
   "id": "394068db-c5f4-4da9-bddb-b581ac47ebab",
   "metadata": {},
   "source": [
    "## Линейная регрессия\n",
    "\n",
    "Линейная регрессия — используемая в статистике регрессионная модель зависимости одной (объясняемой, зависимой) переменной y от другой или нескольких других переменных (факторов, регрессоров, независимых переменных) x с линейной функцией зависимости.\n",
    "\n",
    "Модель линейной регрессии является часто используемой и наиболее изученной в эконометрике. А именно изучены свойства оценок параметров, получаемых различными методами при предположениях о вероятностных характеристиках факторов, и случайных ошибок модели. Предельные (асимптотические) свойства оценок нелинейных моделей также выводятся исходя из аппроксимации последних линейными моделями. С эконометрической точки зрения более важное значение имеет линейность по параметрам, чем линейность по факторам модели. "
   ]
  },
  {
   "cell_type": "markdown",
   "id": "1ea8d5ab-576a-409c-a500-034f800d0d66",
   "metadata": {},
   "source": [
    "Создание пайплайна для обучения модели"
   ]
  },
  {
   "cell_type": "code",
   "execution_count": 11,
   "id": "826305e4-8e9f-4ba0-b2eb-0ebd99ff3db1",
   "metadata": {},
   "outputs": [],
   "source": [
    "reg_pipeline = Pipeline(stages=[\n",
    "    StringIndexer(inputCol='day_of_week', outputCol='day_idx'),\n",
    "    StringIndexer(inputCol='month', outputCol='month_idx'),\n",
    "    VectorAssembler(inputCols=['day_idx', 'month_idx', 'electric_bike', 'docked_bike', 'member', 'round_trip'], outputCol='cat_features'),\n",
    "    VectorIndexer(inputCol='cat_features', outputCol='cat_idx'),\n",
    "    VectorAssembler(inputCols=['start_lat', 'start_lng', 'end_lat', 'end_lng', 'duration'], outputCol='num_features'),\n",
    "    MinMaxScaler(inputCol='num_features', outputCol='num_scaled'),\n",
    "    VectorAssembler(inputCols=['cat_idx', 'num_scaled'], outputCol='features'),\n",
    "    LinearRegression(labelCol='distance', featuresCol='features', maxIter=10, regParam=0.3, elasticNetParam=0.8)\n",
    "])"
   ]
  },
  {
   "cell_type": "markdown",
   "id": "98d42d45-0a85-4f04-ab15-2b5ed2599bd7",
   "metadata": {},
   "source": [
    "Обучение пайплайна и получение предсказаний"
   ]
  },
  {
   "cell_type": "code",
   "execution_count": 12,
   "id": "b748655f-9645-4147-8044-2baa40211c59",
   "metadata": {},
   "outputs": [],
   "source": [
    "reg_model = reg_pipeline.fit(train)\n",
    "reg_predictions = reg_model.transform(test)"
   ]
  },
  {
   "cell_type": "code",
   "execution_count": 19,
   "id": "9374b017-91d4-4671-99f9-e2ba4694b6d6",
   "metadata": {},
   "outputs": [
    {
     "data": {
      "text/html": [
       "<div>\n",
       "<style scoped>\n",
       "    .dataframe tbody tr th:only-of-type {\n",
       "        vertical-align: middle;\n",
       "    }\n",
       "\n",
       "    .dataframe tbody tr th {\n",
       "        vertical-align: top;\n",
       "    }\n",
       "\n",
       "    .dataframe thead th {\n",
       "        text-align: right;\n",
       "    }\n",
       "</style>\n",
       "<table border=\"1\" class=\"dataframe\">\n",
       "  <thead>\n",
       "    <tr style=\"text-align: right;\">\n",
       "      <th></th>\n",
       "      <th>features</th>\n",
       "      <th>prediction</th>\n",
       "      <th>true_value</th>\n",
       "    </tr>\n",
       "  </thead>\n",
       "  <tbody>\n",
       "    <tr>\n",
       "      <th>0</th>\n",
       "      <td>[1.0, 0.0, 0.0, 0.0, 1.0, 1.0, 0.6564408668755...</td>\n",
       "      <td>-815.759180</td>\n",
       "      <td>0.000000</td>\n",
       "    </tr>\n",
       "    <tr>\n",
       "      <th>1</th>\n",
       "      <td>(1.0, 0.0, 0.0, 0.0, 0.0, 0.0, 0.5605402196578...</td>\n",
       "      <td>2766.266643</td>\n",
       "      <td>2459.187861</td>\n",
       "    </tr>\n",
       "    <tr>\n",
       "      <th>2</th>\n",
       "      <td>[1.0, 0.0, 0.0, 0.0, 1.0, 0.0, 0.7133784236897...</td>\n",
       "      <td>1836.266417</td>\n",
       "      <td>1597.472125</td>\n",
       "    </tr>\n",
       "    <tr>\n",
       "      <th>3</th>\n",
       "      <td>(1.0, 0.0, 0.0, 0.0, 0.0, 0.0, 0.5605402196578...</td>\n",
       "      <td>1539.018124</td>\n",
       "      <td>1900.508219</td>\n",
       "    </tr>\n",
       "    <tr>\n",
       "      <th>4</th>\n",
       "      <td>[1.0, 0.0, 0.0, 0.0, 1.0, 0.0, 0.5780607611417...</td>\n",
       "      <td>2665.977707</td>\n",
       "      <td>3920.692148</td>\n",
       "    </tr>\n",
       "    <tr>\n",
       "      <th>5</th>\n",
       "      <td>(1.0, 0.0, 0.0, 0.0, 0.0, 0.0, 0.6413052325463...</td>\n",
       "      <td>1487.523434</td>\n",
       "      <td>921.816245</td>\n",
       "    </tr>\n",
       "    <tr>\n",
       "      <th>6</th>\n",
       "      <td>(1.0, 0.0, 0.0, 0.0, 0.0, 0.0, 0.6020635427168...</td>\n",
       "      <td>2312.758234</td>\n",
       "      <td>2464.847143</td>\n",
       "    </tr>\n",
       "    <tr>\n",
       "      <th>7</th>\n",
       "      <td>(1.0, 0.0, 0.0, 0.0, 0.0, 0.0, 0.5838032717227...</td>\n",
       "      <td>2327.997291</td>\n",
       "      <td>3131.936726</td>\n",
       "    </tr>\n",
       "    <tr>\n",
       "      <th>8</th>\n",
       "      <td>(1.0, 0.0, 0.0, 0.0, 0.0, 0.0, 0.6911312988418...</td>\n",
       "      <td>1956.839945</td>\n",
       "      <td>1938.085599</td>\n",
       "    </tr>\n",
       "    <tr>\n",
       "      <th>9</th>\n",
       "      <td>[1.0, 0.0, 1.0, 0.0, 1.0, 0.0, 0.6650362115608...</td>\n",
       "      <td>2279.600283</td>\n",
       "      <td>2100.911882</td>\n",
       "    </tr>\n",
       "  </tbody>\n",
       "</table>\n",
       "</div>"
      ],
      "text/plain": [
       "                                            features   prediction   true_value\n",
       "0  [1.0, 0.0, 0.0, 0.0, 1.0, 1.0, 0.6564408668755...  -815.759180     0.000000\n",
       "1  (1.0, 0.0, 0.0, 0.0, 0.0, 0.0, 0.5605402196578...  2766.266643  2459.187861\n",
       "2  [1.0, 0.0, 0.0, 0.0, 1.0, 0.0, 0.7133784236897...  1836.266417  1597.472125\n",
       "3  (1.0, 0.0, 0.0, 0.0, 0.0, 0.0, 0.5605402196578...  1539.018124  1900.508219\n",
       "4  [1.0, 0.0, 0.0, 0.0, 1.0, 0.0, 0.5780607611417...  2665.977707  3920.692148\n",
       "5  (1.0, 0.0, 0.0, 0.0, 0.0, 0.0, 0.6413052325463...  1487.523434   921.816245\n",
       "6  (1.0, 0.0, 0.0, 0.0, 0.0, 0.0, 0.6020635427168...  2312.758234  2464.847143\n",
       "7  (1.0, 0.0, 0.0, 0.0, 0.0, 0.0, 0.5838032717227...  2327.997291  3131.936726\n",
       "8  (1.0, 0.0, 0.0, 0.0, 0.0, 0.0, 0.6911312988418...  1956.839945  1938.085599\n",
       "9  [1.0, 0.0, 1.0, 0.0, 1.0, 0.0, 0.6650362115608...  2279.600283  2100.911882"
      ]
     },
     "execution_count": 19,
     "metadata": {},
     "output_type": "execute_result"
    }
   ],
   "source": [
    "reg_predictions.select('features', 'prediction', f.col('distance').alias('true_value')).limit(10).toPandas()"
   ]
  },
  {
   "cell_type": "markdown",
   "id": "4ca15adc-f124-4d3e-9a9d-36732661312d",
   "metadata": {},
   "source": [
    "Оценка модели с использованием метрик RMSE и $r^2$"
   ]
  },
  {
   "cell_type": "code",
   "execution_count": 13,
   "id": "57ed959d-195f-491f-a5b8-7ce16eaec52f",
   "metadata": {},
   "outputs": [
    {
     "name": "stdout",
     "output_type": "stream",
     "text": [
      "Coefficients: [1.1244393733159874,-6.342347712178122,245.64636158271023,-287.7443993160476,155.81055864999968,-1776.6598893041462,64.48763391005619,-689.7707628749337,334.04719864770465,-965.735776005556,3536.072245249295], Intercept: 1428.4152782971732\n",
      "RMSE: 913.0782371452432, r2: 0.4360709044311927\n"
     ]
    }
   ],
   "source": [
    "lr = reg_model.stages[-1]\n",
    "print(f'Coefficients: {lr.coefficients}, Intercept: {lr.intercept}')\n",
    "summary = lr.summary\n",
    "print(f'RMSE: {summary.rootMeanSquaredError}, r2: {summary.r2}')"
   ]
  }
 ],
 "metadata": {
  "kernelspec": {
   "display_name": "Python 3 (ipykernel)",
   "language": "python",
   "name": "python3"
  },
  "language_info": {
   "codemirror_mode": {
    "name": "ipython",
    "version": 3
   },
   "file_extension": ".py",
   "mimetype": "text/x-python",
   "name": "python",
   "nbconvert_exporter": "python",
   "pygments_lexer": "ipython3",
   "version": "3.10.6"
  }
 },
 "nbformat": 4,
 "nbformat_minor": 5
}
